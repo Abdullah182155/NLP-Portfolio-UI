{
 "cells": [
  {
   "cell_type": "code",
   "execution_count": null,
   "id": "98e83c02-0bff-41c6-ab0d-2d947dbe0b2e",
   "metadata": {},
   "outputs": [],
   "source": [
    "import pickle\n",
    "import pandas as pd\n",
    "from utils.data_utils import divide_results_and_save_to_memory\n",
    "import os\n",
    "import pandas as pd\n",
    "\n",
    "def load_model(model_file):\n",
    "    \"\"\"Load the model object using pickle.\"\"\"\n",
    "    try:\n",
    "        with open(model_file, 'rb') as file:\n",
    "            model = pickle.load(file)\n",
    "        return model\n",
    "    except Exception as e:\n",
    "        print(f\"Error loading model from {model_file}: {e}\")\n",
    "        return None\n",
    "import io\n",
    "\n",
    "\n",
    "def predict_with_model_in_memory(model_file_path=None, csv_data=None, stock_symbol=\"\", start_date=\"\", end_date=\"\"):\n",
    "    model = load_model(model_file_path)\n",
    "    print(model)\n",
    "    \n",
    "    if model is None:\n",
    "        print(f\"Model for {stock_symbol} could not be loaded.\")\n",
    "        return {}\n",
    "\n",
    "    if isinstance(csv_data, str):\n",
    "        if not os.path.isfile(csv_data):\n",
    "            print(f\"Error: The file {csv_data} does not exist.\")\n",
    "            return {}\n",
    "        csv_data = pd.read_csv(csv_data)\n",
    "    \n",
    "    csv_data['Date'] = pd.to_datetime(csv_data['Date'])\n",
    "    \n",
    "    start_date = pd.to_datetime(start_date)\n",
    "    end_date = pd.to_datetime(end_date)\n",
    "\n",
    "    test = csv_data[(csv_data['Date'] >= start_date) & (csv_data['Date'] <= end_date)]\n",
    "    \n",
    "    X = test[['Title', 'Content', 'day', 'month', 'year', 'Close Before']]\n",
    "    y = test['Label']\n",
    "\n",
    "    predictions = model.predict(X)\n",
    "\n",
    "    results_dic = {\n",
    "        'Date': test['Date'],\n",
    "        'Close': test['Close Before'],\n",
    "        'Actual_Future_Trend': y,\n",
    "        'Predicted_Future_Trend': predictions\n",
    "    }\n",
    "    results_df = pd.DataFrame(results_dic)\n",
    "\n",
    "    # Return DataFrame instead of saving\n",
    "    return results_df"
   ]
  }
 ],
 "metadata": {
  "kernelspec": {
   "display_name": "Python 3 (ipykernel)",
   "language": "python",
   "name": "python3"
  },
  "language_info": {
   "codemirror_mode": {
    "name": "ipython",
    "version": 3
   },
   "file_extension": ".py",
   "mimetype": "text/x-python",
   "name": "python",
   "nbconvert_exporter": "python",
   "pygments_lexer": "ipython3",
   "version": "3.8.20"
  }
 },
 "nbformat": 4,
 "nbformat_minor": 5
}
