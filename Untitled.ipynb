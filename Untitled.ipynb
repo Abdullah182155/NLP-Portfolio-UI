{
 "cells": [
  {
   "cell_type": "code",
   "execution_count": 1,
   "id": "98e83c02-0bff-41c6-ab0d-2d947dbe0b2e",
   "metadata": {},
   "outputs": [
    {
     "name": "stderr",
     "output_type": "stream",
     "text": [
      "D:\\anaconda3\\envs\\main_env\\lib\\site-packages\\sklearn\\base.py:329: UserWarning: Trying to unpickle estimator TfidfVectorizer from version 1.4.2 when using version 1.0.2. This might lead to breaking code or invalid results. Use at your own risk. For more info please refer to:\n",
      "https://scikit-learn.org/stable/modules/model_persistence.html#security-maintainability-limitations\n",
      "  warnings.warn(\n",
      "D:\\anaconda3\\envs\\main_env\\lib\\site-packages\\sklearn\\base.py:329: UserWarning: Trying to unpickle estimator Pipeline from version 1.4.2 when using version 1.0.2. This might lead to breaking code or invalid results. Use at your own risk. For more info please refer to:\n",
      "https://scikit-learn.org/stable/modules/model_persistence.html#security-maintainability-limitations\n",
      "  warnings.warn(\n",
      "D:\\anaconda3\\envs\\main_env\\lib\\site-packages\\sklearn\\base.py:329: UserWarning: Trying to unpickle estimator TfidfTransformer from version 1.4.2 when using version 1.0.2. This might lead to breaking code or invalid results. Use at your own risk. For more info please refer to:\n",
      "https://scikit-learn.org/stable/modules/model_persistence.html#security-maintainability-limitations\n",
      "  warnings.warn(\n",
      "D:\\anaconda3\\envs\\main_env\\lib\\site-packages\\sklearn\\base.py:329: UserWarning: Trying to unpickle estimator ColumnTransformer from version 1.4.2 when using version 1.0.2. This might lead to breaking code or invalid results. Use at your own risk. For more info please refer to:\n",
      "https://scikit-learn.org/stable/modules/model_persistence.html#security-maintainability-limitations\n",
      "  warnings.warn(\n",
      "D:\\anaconda3\\envs\\main_env\\lib\\site-packages\\sklearn\\base.py:329: UserWarning: Trying to unpickle estimator TruncatedSVD from version 1.4.2 when using version 1.0.2. This might lead to breaking code or invalid results. Use at your own risk. For more info please refer to:\n",
      "https://scikit-learn.org/stable/modules/model_persistence.html#security-maintainability-limitations\n",
      "  warnings.warn(\n"
     ]
    },
    {
     "name": "stdout",
     "output_type": "stream",
     "text": [
      "Error loading model from best_models/AAPL.pkl: node array from the pickle has an incompatible dtype:\n",
      "- expected: [('left_child', '<i8'), ('right_child', '<i8'), ('feature', '<i8'), ('threshold', '<f8'), ('impurity', '<f8'), ('n_node_samples', '<i8'), ('weighted_n_node_samples', '<f8')]\n",
      "- got     : {'names': ['left_child', 'right_child', 'feature', 'threshold', 'impurity', 'n_node_samples', 'weighted_n_node_samples', 'missing_go_to_left'], 'formats': ['<i8', '<i8', '<i8', '<f8', '<f8', '<i8', '<f8', 'u1'], 'offsets': [0, 8, 16, 24, 32, 40, 48, 56], 'itemsize': 64}\n",
      "None\n",
      "Model for AAPL could not be loaded.\n"
     ]
    },
    {
     "name": "stderr",
     "output_type": "stream",
     "text": [
      "D:\\anaconda3\\envs\\main_env\\lib\\site-packages\\sklearn\\base.py:329: UserWarning: Trying to unpickle estimator DecisionTreeClassifier from version 1.4.2 when using version 1.0.2. This might lead to breaking code or invalid results. Use at your own risk. For more info please refer to:\n",
      "https://scikit-learn.org/stable/modules/model_persistence.html#security-maintainability-limitations\n",
      "  warnings.warn(\n"
     ]
    }
   ],
   "source": [
    "import pickle\n",
    "import pandas as pd\n",
    "from utils.data_utils import divide_results_and_save_to_memory\n",
    "import os\n",
    "import pandas as pd\n",
    "\n",
    "def load_model(model_file):\n",
    "    \"\"\"Load the model object using pickle.\"\"\"\n",
    "    try:\n",
    "        with open(model_file, 'rb') as file:\n",
    "            model = pickle.load(file)\n",
    "        return model\n",
    "    except Exception as e:\n",
    "        print(f\"Error loading model from {model_file}: {e}\")\n",
    "        return None\n",
    "import io\n",
    "\n",
    "\n",
    "def predict_with_model_in_memory(model_file_path=None, csv_data=None, stock_symbol=\"\", start_date=\"\", end_date=\"\"):\n",
    "    model = load_model(model_file_path)\n",
    "    print(model)\n",
    "    \n",
    "    if model is None:\n",
    "        print(f\"Model for {stock_symbol} could not be loaded.\")\n",
    "        return {}\n",
    "\n",
    "    if isinstance(csv_data, str):\n",
    "        if not os.path.isfile(csv_data):\n",
    "            print(f\"Error: The file {csv_data} does not exist.\")\n",
    "            return {}\n",
    "        csv_data = pd.read_csv(csv_data)\n",
    "    \n",
    "    csv_data['Date'] = pd.to_datetime(csv_data['Date'])\n",
    "    \n",
    "    start_date = pd.to_datetime(start_date)\n",
    "    end_date = pd.to_datetime(end_date)\n",
    "\n",
    "    test = csv_data[(csv_data['Date'] >= start_date) & (csv_data['Date'] <= end_date)]\n",
    "    \n",
    "    X = test[['Title', 'Content', 'day', 'month', 'year', 'Close Before']]\n",
    "    y = test['Label']\n",
    "\n",
    "    predictions = model.predict(X)\n",
    "\n",
    "    results_dic = {\n",
    "        'Date': test['Date'],\n",
    "        'Close': test['Close Before'],\n",
    "        'Actual_Future_Trend': y,\n",
    "        'Predicted_Future_Trend': predictions\n",
    "    }\n",
    "    results_df = pd.DataFrame(results_dic)\n",
    "\n",
    "    # Return DataFrame instead of saving\n",
    "    return results_df\n",
    "result_df = predict_with_model_in_memory(model_file_path='best_models/AAPL.pkl', csv_data='Processed_Datasets/AAPL.csv', stock_symbol=\"AAPL\", start_date=\"10/01/2021\", end_date=\"10/01/2023\")"
   ]
  },
  {
   "cell_type": "code",
   "execution_count": 10,
   "id": "943ea6b7-86fe-48f5-8d02-199b99dfb431",
   "metadata": {},
   "outputs": [
    {
     "name": "stdout",
     "output_type": "stream",
     "text": [
      "Collecting scikit-learn==1.0.2\n",
      "  Downloading scikit_learn-1.0.2-cp38-cp38-win_amd64.whl.metadata (10 kB)\n",
      "Requirement already satisfied: numpy>=1.14.6 in d:\\anaconda3\\envs\\main_env\\lib\\site-packages (from scikit-learn==1.0.2) (1.24.4)\n",
      "Requirement already satisfied: scipy>=1.1.0 in d:\\anaconda3\\envs\\main_env\\lib\\site-packages (from scikit-learn==1.0.2) (1.10.1)\n",
      "Requirement already satisfied: joblib>=0.11 in d:\\anaconda3\\envs\\main_env\\lib\\site-packages (from scikit-learn==1.0.2) (1.4.2)\n",
      "Requirement already satisfied: threadpoolctl>=2.0.0 in d:\\anaconda3\\envs\\main_env\\lib\\site-packages (from scikit-learn==1.0.2) (3.5.0)\n",
      "Downloading scikit_learn-1.0.2-cp38-cp38-win_amd64.whl (7.2 MB)\n",
      "   ---------------------------------------- 0.0/7.2 MB ? eta -:--:--\n",
      "   - -------------------------------------- 0.3/7.2 MB ? eta -:--:--\n",
      "   ---- ----------------------------------- 0.8/7.2 MB 2.2 MB/s eta 0:00:03\n",
      "   ------- -------------------------------- 1.3/7.2 MB 2.2 MB/s eta 0:00:03\n",
      "   -------- ------------------------------- 1.6/7.2 MB 2.2 MB/s eta 0:00:03\n",
      "   ----------- ---------------------------- 2.1/7.2 MB 2.2 MB/s eta 0:00:03\n",
      "   -------------- ------------------------- 2.6/7.2 MB 2.2 MB/s eta 0:00:03\n",
      "   ----------------- ---------------------- 3.1/7.2 MB 2.3 MB/s eta 0:00:02\n",
      "   -------------------- ------------------- 3.7/7.2 MB 2.2 MB/s eta 0:00:02\n",
      "   ----------------------- ---------------- 4.2/7.2 MB 2.2 MB/s eta 0:00:02\n",
      "   -------------------------- ------------- 4.7/7.2 MB 2.2 MB/s eta 0:00:02\n",
      "   ----------------------------- ---------- 5.2/7.2 MB 2.2 MB/s eta 0:00:01\n",
      "   ------------------------------ --------- 5.5/7.2 MB 2.3 MB/s eta 0:00:01\n",
      "   --------------------------------- ------ 6.0/7.2 MB 2.3 MB/s eta 0:00:01\n",
      "   ------------------------------------ --- 6.6/7.2 MB 2.2 MB/s eta 0:00:01\n",
      "   ---------------------------------------  7.1/7.2 MB 2.2 MB/s eta 0:00:01\n",
      "   ---------------------------------------- 7.2/7.2 MB 2.2 MB/s eta 0:00:00\n",
      "Installing collected packages: scikit-learn\n",
      "  Attempting uninstall: scikit-learn\n",
      "    Found existing installation: scikit-learn 1.3.2\n",
      "    Uninstalling scikit-learn-1.3.2:\n",
      "      Successfully uninstalled scikit-learn-1.3.2\n",
      "Successfully installed scikit-learn-1.0.2\n",
      "Note: you may need to restart the kernel to use updated packages.\n"
     ]
    },
    {
     "name": "stderr",
     "output_type": "stream",
     "text": [
      "  WARNING: Failed to remove contents in a temporary directory 'D:\\anaconda3\\envs\\main_env\\Lib\\site-packages\\~klearn'.\n",
      "  You can safely remove it manually.\n"
     ]
    }
   ],
   "source": [
    "pip install scikit-learn==1.0.2"
   ]
  }
 ],
 "metadata": {
  "kernelspec": {
   "display_name": "Python 3 (ipykernel)",
   "language": "python",
   "name": "python3"
  },
  "language_info": {
   "codemirror_mode": {
    "name": "ipython",
    "version": 3
   },
   "file_extension": ".py",
   "mimetype": "text/x-python",
   "name": "python",
   "nbconvert_exporter": "python",
   "pygments_lexer": "ipython3",
   "version": "3.8.20"
  }
 },
 "nbformat": 4,
 "nbformat_minor": 5
}
